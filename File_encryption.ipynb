{
  "nbformat": 4,
  "nbformat_minor": 0,
  "metadata": {
    "colab": {
      "provenance": []
    },
    "kernelspec": {
      "name": "python3",
      "display_name": "Python 3"
    },
    "language_info": {
      "name": "python"
    }
  },
  "cells": [
    {
      "cell_type": "code",
      "source": [
        "!pip install cryptography"
      ],
      "metadata": {
        "colab": {
          "base_uri": "https://localhost:8080/"
        },
        "id": "N5EkYWTUgmvJ",
        "outputId": "b8d3f2e3-6e04-4ec2-a975-d191ba36527d"
      },
      "execution_count": null,
      "outputs": [
        {
          "output_type": "stream",
          "name": "stdout",
          "text": [
            "Requirement already satisfied: cryptography in /usr/local/lib/python3.10/dist-packages (43.0.3)\n",
            "Requirement already satisfied: cffi>=1.12 in /usr/local/lib/python3.10/dist-packages (from cryptography) (1.17.1)\n",
            "Requirement already satisfied: pycparser in /usr/local/lib/python3.10/dist-packages (from cffi>=1.12->cryptography) (2.22)\n"
          ]
        }
      ]
    },
    {
      "cell_type": "code",
      "source": [
        "import os\n",
        "from cryptography.hazmat.primitives.ciphers import Cipher, algorithms, modes\n",
        "from cryptography.hazmat.backends import default_backend\n",
        "from cryptography.hazmat.primitives import padding, hashes\n",
        "from cryptography.hazmat.primitives.kdf.pbkdf2 import PBKDF2HMAC\n",
        "from cryptography.hazmat.primitives.kdf.scrypt import Scrypt\n",
        "from cryptography.hazmat.primitives import serialization\n",
        "from cryptography.hazmat.primitives import hmac\n",
        "from cryptography.hazmat.primitives.kdf.scrypt import Scrypt\n",
        "from cryptography.hazmat.primitives import hashes\n",
        "from cryptography.hazmat.primitives.kdf.pbkdf2 import PBKDF2HMAC\n",
        "\n",
        "# Constants for AES encryption\n",
        "KEY_SIZE = 32  # 256 bits for AES\n",
        "IV_SIZE = 16   # 128 bits for AES IV\n",
        "SALT_SIZE = 16 # Size of the salt for key derivation\n",
        "PAD_BLOCK_SIZE = 128\n",
        "\n",
        "# Function to generate a key from a password\n",
        "def generate_key(password: str, salt: bytes) -> bytes:\n",
        "    kdf = PBKDF2HMAC(\n",
        "        algorithm=hashes.SHA256(),\n",
        "        length=KEY_SIZE,\n",
        "        salt=salt,\n",
        "        iterations=100000,\n",
        "        backend=default_backend()\n",
        "    )\n",
        "    return kdf.derive(password.encode())\n",
        "\n",
        "# Function to encrypt a file\n",
        "def encrypt_file(file_path: str, password: str, output_path: str):\n",
        "    # Generate salt and key\n",
        "    salt = os.urandom(SALT_SIZE)\n",
        "    key = generate_key(password, salt)\n",
        "    iv = os.urandom(IV_SIZE)\n",
        "\n",
        "    # Read file data\n",
        "    with open(\"/content/example.txt\", 'rb') as file:\n",
        "        data = file.read()\n",
        "\n",
        "    # Pad data\n",
        "    padder = padding.PKCS7(PAD_BLOCK_SIZE).padder()\n",
        "    padded_data = padder.update(data) + padder.finalize()\n",
        "\n",
        "    # Encrypt data\n",
        "    cipher = Cipher(algorithms.AES(key), modes.CBC(iv), backend=default_backend())\n",
        "    encryptor = cipher.encryptor()\n",
        "    encrypted_data = encryptor.update(padded_data) + encryptor.finalize()\n",
        "\n",
        "    # Write encrypted data to file\n",
        "    with open(output_path, 'wb') as enc_file:\n",
        "        enc_file.write(salt + iv + encrypted_data)\n",
        "\n",
        "    print(f\"File encrypted and saved to {output_path}\")\n",
        "\n",
        "# Function to decrypt a file\n",
        "def decrypt_file(file_path: str, password: str, output_path: str):\n",
        "    # Read the salt, IV, and encrypted data\n",
        "    with open(file_path, 'rb') as enc_file:\n",
        "        salt = enc_file.read(SALT_SIZE)\n",
        "        iv = enc_file.read(IV_SIZE)\n",
        "        encrypted_data = enc_file.read()\n",
        "\n",
        "    # Generate key from the password and salt\n",
        "    key = generate_key(password, salt)\n",
        "\n",
        "    # Decrypt data\n",
        "    cipher = Cipher(algorithms.AES(key), modes.CBC(iv), backend=default_backend())\n",
        "    decryptor = cipher.decryptor()\n",
        "    padded_data = decryptor.update(encrypted_data) + decryptor.finalize()\n",
        "\n",
        "    # Unpad data\n",
        "    unpadder = padding.PKCS7(PAD_BLOCK_SIZE).unpadder()\n",
        "    data = unpadder.update(padded_data) + unpadder.finalize()\n",
        "\n",
        "    # Write decrypted data to file\n",
        "    with open(output_path, 'wb') as dec_file:\n",
        "        dec_file.write(data)\n",
        "\n",
        "    print(f\"File decrypted and saved to {output_path}\")\n",
        "\n",
        "# Usage example\n",
        "if __name__ == \"__main__\":\n",
        "    password = \"strong_password\"\n",
        "    input_file = \"example.txt\"           # Replace with the path to your file\n",
        "    encrypted_file = \"example.enc\"        # Output path for encrypted file\n",
        "    decrypted_file = \"example_decrypted.txt\"  # Output path for decrypted file\n",
        "\n",
        "    # Encrypt the file\n",
        "    encrypt_file(input_file, password, encrypted_file)\n",
        "\n",
        "    # Decrypt the file\n",
        "    decrypt_file(encrypted_file, password, decrypted_file)\n"
      ],
      "metadata": {
        "colab": {
          "base_uri": "https://localhost:8080/"
        },
        "id": "qIOD6246Qvu-",
        "outputId": "58f1b68c-36e9-4f8c-93a8-be8454b6a315"
      },
      "execution_count": null,
      "outputs": [
        {
          "output_type": "stream",
          "name": "stdout",
          "text": [
            "File encrypted and saved to example.enc\n",
            "File decrypted and saved to example_decrypted.txt\n"
          ]
        }
      ]
    }
  ]
}